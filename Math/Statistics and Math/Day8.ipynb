{
 "cells": [
  {
   "cell_type": "code",
   "execution_count": 2,
   "id": "a085c917",
   "metadata": {},
   "outputs": [],
   "source": [
    "import scipy.stats as st\n",
    "import numpy as np"
   ]
  },
  {
   "cell_type": "code",
   "execution_count": 8,
   "id": "abb3df2d",
   "metadata": {},
   "outputs": [],
   "source": [
    "s_x = 90\n",
    "p_u = 82\n",
    "p_std = 20\n",
    "n = 81\n",
    "ap = 0.05"
   ]
  },
  {
   "cell_type": "code",
   "execution_count": 9,
   "id": "b71251ce",
   "metadata": {},
   "outputs": [
    {
     "data": {
      "text/plain": [
       "np.float64(3.5999999999999996)"
      ]
     },
     "execution_count": 9,
     "metadata": {},
     "output_type": "execute_result"
    }
   ],
   "source": [
    "z_cal = (s_x - p_u)/(p_std/np.sqrt(n))\n",
    "z_cal"
   ]
  },
  {
   "cell_type": "code",
   "execution_count": 10,
   "id": "c39ce374",
   "metadata": {},
   "outputs": [
    {
     "data": {
      "text/plain": [
       "np.float64(1.6448536269514722)"
      ]
     },
     "execution_count": 10,
     "metadata": {},
     "output_type": "execute_result"
    }
   ],
   "source": [
    "z_table = st.norm.ppf(1-ap)\n",
    "z_table"
   ]
  },
  {
   "cell_type": "code",
   "execution_count": 11,
   "id": "b8d0ab37",
   "metadata": {},
   "outputs": [
    {
     "name": "stdout",
     "output_type": "stream",
     "text": [
      "ha is right\n"
     ]
    }
   ],
   "source": [
    "if z_table < z_cal:\n",
    "    print(\"ha is right\")\n",
    "else:\n",
    "    print(\"ho is right\")"
   ]
  },
  {
   "cell_type": "code",
   "execution_count": 12,
   "id": "c6a200af",
   "metadata": {},
   "outputs": [
    {
     "name": "stdout",
     "output_type": "stream",
     "text": [
      "Z-score: -1.8973665961010275\n",
      "P-value: 0.05777957112359733\n",
      "Fail to Reject the Null Hypothesis (H₀)\n"
     ]
    }
   ],
   "source": [
    "\n",
    "import numpy as np\n",
    "import scipy.stats as stats\n",
    "\n",
    "# Given data\n",
    "mu = 1200          # population mean\n",
    "sample_mean = 1170\n",
    "sigma = 100        # population standard deviation\n",
    "n = 40             # sample size\n",
    "alpha = 0.05       # significance level\n",
    "\n",
    "# Step 4: Calculate z-score\n",
    "z = (sample_mean - mu) / (sigma / np.sqrt(n))\n",
    "\n",
    "# Step 5: Calculate p-value (two-tailed test)\n",
    "p_value = 2 * (1 - stats.norm.cdf(abs(z)))\n",
    "\n",
    "# Step 6: Decision\n",
    "print(\"Z-score:\", z)\n",
    "print(\"P-value:\", p_value)\n",
    "\n",
    "if p_value < alpha:\n",
    "    print(\"Reject the Null Hypothesis (H₀)\")\n",
    "else:\n",
    "    print(\"Fail to Reject the Null Hypothesis (H₀)\")\n",
    "\n"
   ]
  }
 ],
 "metadata": {
  "kernelspec": {
   "display_name": "Python 3",
   "language": "python",
   "name": "python3"
  },
  "language_info": {
   "codemirror_mode": {
    "name": "ipython",
    "version": 3
   },
   "file_extension": ".py",
   "mimetype": "text/x-python",
   "name": "python",
   "nbconvert_exporter": "python",
   "pygments_lexer": "ipython3",
   "version": "3.13.2"
  }
 },
 "nbformat": 4,
 "nbformat_minor": 5
}
